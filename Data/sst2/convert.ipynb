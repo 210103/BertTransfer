{
 "cells": [
  {
   "cell_type": "code",
   "execution_count": 2,
   "source": [
    "import pandas as pd"
   ],
   "outputs": [],
   "metadata": {}
  },
  {
   "cell_type": "code",
   "execution_count": 20,
   "source": [
    "def convert(filename:str):\r\n",
    "\r\n",
    "    tRaw = pd.read_csv(filename)\r\n",
    "    nFilename = filename.split('_')[0]+\".csv\"\r\n",
    "    t1 = tRaw[tRaw['OUTPUT']!=2].copy()\r\n",
    "    t1['label'] = t1['OUTPUT'].copy().apply(lambda v: 1 if v >= 3 else 0)\r\n",
    "    t1 = t1.drop([\"OUTPUT\"],axis=1)\r\n",
    "    t2 = t1.rename(columns={\"INPUT\":\"text\"})\r\n",
    "    t2.to_csv(nFilename,index=False)"
   ],
   "outputs": [],
   "metadata": {}
  },
  {
   "cell_type": "code",
   "execution_count": 22,
   "source": [
    "path =\"../../RawData/SST-2/\"\r\n",
    "convert(path+\"test_1.csv\")\r\n",
    "convert(path+\"train_1.csv\")\r\n",
    "convert(path+\"val_1.csv\")"
   ],
   "outputs": [],
   "metadata": {}
  }
 ],
 "metadata": {
  "orig_nbformat": 4,
  "language_info": {
   "name": "python",
   "version": "3.9.6",
   "mimetype": "text/x-python",
   "codemirror_mode": {
    "name": "ipython",
    "version": 3
   },
   "pygments_lexer": "ipython3",
   "nbconvert_exporter": "python",
   "file_extension": ".py"
  },
  "kernelspec": {
   "name": "python3",
   "display_name": "Python 3.9.6 64-bit"
  },
  "interpreter": {
   "hash": "4876ff34b70794a54711585a56035755ce9dd6f9a98e80662ac35fb37c287d01"
  }
 },
 "nbformat": 4,
 "nbformat_minor": 2
}