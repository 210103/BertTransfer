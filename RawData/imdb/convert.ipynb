{
 "cells": [
  {
   "cell_type": "code",
   "execution_count": 6,
   "source": [
    "import torch\r\n",
    "import torch.nn as nn\r\n",
    "import pandas as pd\r\n",
    "from datasets import load_dataset\r\n",
    "from sklearn.utils import shuffle"
   ],
   "outputs": [],
   "metadata": {}
  },
  {
   "cell_type": "code",
   "execution_count": 12,
   "source": [
    "test_dataset= load_dataset(\"imdb\",split=\"test[10000:15000]\")"
   ],
   "outputs": [
    {
     "output_type": "stream",
     "name": "stderr",
     "text": [
      "Using the latest cached version of the module from C:\\Users\\LEOVO\\.cache\\huggingface\\modules\\datasets_modules\\datasets\\imdb\\e3c66f1788a67a89c7058d97ff62b6c30531e05b549de56d3ab91891f0561f9a (last modified on Wed Aug 11 17:01:21 2021) since it couldn't be found locally at imdb\\imdb.py or remotely (ConnectionError).\n",
      "Using the latest cached version of the module from C:\\Users\\LEOVO\\.cache\\huggingface\\modules\\datasets_modules\\datasets\\imdb\\e3c66f1788a67a89c7058d97ff62b6c30531e05b549de56d3ab91891f0561f9a (last modified on Wed Aug 11 17:01:21 2021) since it couldn't be found locally at imdb\\imdb.py or remotely (ConnectionError).\n",
      "Reusing dataset imdb (C:\\Users\\LEOVO\\.cache\\huggingface\\datasets\\imdb\\plain_text\\1.0.0\\e3c66f1788a67a89c7058d97ff62b6c30531e05b549de56d3ab91891f0561f9a)\n"
     ]
    }
   ],
   "metadata": {}
  },
  {
   "cell_type": "code",
   "execution_count": null,
   "source": [
    "test = pd.DataFrame()\r\n",
    "test['text'] =  pd.Series(test_dataset['text'])\r\n",
    "test['label'] = pd.Series(test_dataset['label'])\r\n",
    "test = shuffle(test)\r\n",
    "test.to_csv(\"../../Data/imdb/test.csv\",index=False)"
   ],
   "outputs": [],
   "metadata": {}
  },
  {
   "cell_type": "code",
   "execution_count": 15,
   "source": [
    "dataset = load_dataset(\"imdb\",split=\"train[0:25000]\")"
   ],
   "outputs": [
    {
     "output_type": "stream",
     "name": "stderr",
     "text": [
      "Using the latest cached version of the module from C:\\Users\\LEOVO\\.cache\\huggingface\\modules\\datasets_modules\\datasets\\imdb\\e3c66f1788a67a89c7058d97ff62b6c30531e05b549de56d3ab91891f0561f9a (last modified on Wed Aug 11 17:01:21 2021) since it couldn't be found locally at imdb\\imdb.py or remotely (ConnectionError).\n",
      "Using the latest cached version of the module from C:\\Users\\LEOVO\\.cache\\huggingface\\modules\\datasets_modules\\datasets\\imdb\\e3c66f1788a67a89c7058d97ff62b6c30531e05b549de56d3ab91891f0561f9a (last modified on Wed Aug 11 17:01:21 2021) since it couldn't be found locally at imdb\\imdb.py or remotely (ConnectionError).\n",
      "Reusing dataset imdb (C:\\Users\\LEOVO\\.cache\\huggingface\\datasets\\imdb\\plain_text\\1.0.0\\e3c66f1788a67a89c7058d97ff62b6c30531e05b549de56d3ab91891f0561f9a)\n"
     ]
    }
   ],
   "metadata": {}
  },
  {
   "cell_type": "code",
   "execution_count": 257,
   "source": [
    "both = pd.DataFrame()\r\n",
    "both['text'] =  pd.Series(dataset['text'])\r\n",
    "both['label'] = pd.Series(dataset['label'])"
   ],
   "outputs": [],
   "metadata": {}
  },
  {
   "cell_type": "code",
   "execution_count": 259,
   "source": [
    "val = both[10000:15000]\r\n",
    "val = shuffle(val)\r\n",
    "val.to_csv(\"../../Data/imdb/val.csv\",index=False)"
   ],
   "outputs": [],
   "metadata": {}
  },
  {
   "cell_type": "code",
   "execution_count": 271,
   "source": [
    "train = pd.concat([both[0:10000],both[15000:25000]])\r\n",
    "train = shuffle(train)\r\n",
    "train.to_csv(\"../../Data/imdb/train.csv\",index=False)"
   ],
   "outputs": [],
   "metadata": {}
  }
 ],
 "metadata": {
  "orig_nbformat": 4,
  "language_info": {
   "name": "python",
   "version": "3.9.6",
   "mimetype": "text/x-python",
   "codemirror_mode": {
    "name": "ipython",
    "version": 3
   },
   "pygments_lexer": "ipython3",
   "nbconvert_exporter": "python",
   "file_extension": ".py"
  },
  "kernelspec": {
   "name": "python3",
   "display_name": "Python 3.9.6 64-bit"
  },
  "interpreter": {
   "hash": "4876ff34b70794a54711585a56035755ce9dd6f9a98e80662ac35fb37c287d01"
  }
 },
 "nbformat": 4,
 "nbformat_minor": 2
}