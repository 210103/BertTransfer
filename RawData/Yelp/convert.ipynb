{
 "cells": [
  {
   "cell_type": "code",
   "execution_count": 1,
   "source": [
    "import torch\r\n",
    "import torch.nn as nn\r\n",
    "import pandas as pd\r\n",
    "from datasets import load_dataset"
   ],
   "outputs": [],
   "metadata": {}
  },
  {
   "cell_type": "code",
   "execution_count": 2,
   "source": [
    "train_dataset = load_dataset(\"yelp_polarity\",split=\"train[0:25000]\")\r\n",
    "val_dataset = load_dataset(\"yelp_polarity\",split=\"train[20000:25000]\")\r\n",
    "test_dataset= load_dataset(\"yelp_polarity\",split=\"test[:5000]\")"
   ],
   "outputs": [
    {
     "output_type": "stream",
     "name": "stderr",
     "text": [
      "Using the latest cached version of the module from C:\\Users\\LEOVO\\.cache\\huggingface\\modules\\datasets_modules\\datasets\\yelp_polarity\\a770787b2526bdcbfc29ac2d9beb8e820fbc15a03afd3ebc4fb9d8529de57544 (last modified on Wed Sep  8 00:23:13 2021) since it couldn't be found locally at yelp_polarity\\yelp_polarity.py or remotely (ConnectionError).\n",
      "Using the latest cached version of the module from C:\\Users\\LEOVO\\.cache\\huggingface\\modules\\datasets_modules\\datasets\\yelp_polarity\\a770787b2526bdcbfc29ac2d9beb8e820fbc15a03afd3ebc4fb9d8529de57544 (last modified on Wed Sep  8 00:23:13 2021) since it couldn't be found locally at yelp_polarity\\yelp_polarity.py or remotely (ConnectionError).\n",
      "Reusing dataset yelp_polarity (C:\\Users\\LEOVO\\.cache\\huggingface\\datasets\\yelp_polarity\\plain_text\\1.0.0\\a770787b2526bdcbfc29ac2d9beb8e820fbc15a03afd3ebc4fb9d8529de57544)\n",
      "Using the latest cached version of the module from C:\\Users\\LEOVO\\.cache\\huggingface\\modules\\datasets_modules\\datasets\\yelp_polarity\\a770787b2526bdcbfc29ac2d9beb8e820fbc15a03afd3ebc4fb9d8529de57544 (last modified on Wed Sep  8 00:23:13 2021) since it couldn't be found locally at yelp_polarity\\yelp_polarity.py or remotely (ConnectionError).\n",
      "Using the latest cached version of the module from C:\\Users\\LEOVO\\.cache\\huggingface\\modules\\datasets_modules\\datasets\\yelp_polarity\\a770787b2526bdcbfc29ac2d9beb8e820fbc15a03afd3ebc4fb9d8529de57544 (last modified on Wed Sep  8 00:23:13 2021) since it couldn't be found locally at yelp_polarity\\yelp_polarity.py or remotely (ConnectionError).\n",
      "Reusing dataset yelp_polarity (C:\\Users\\LEOVO\\.cache\\huggingface\\datasets\\yelp_polarity\\plain_text\\1.0.0\\a770787b2526bdcbfc29ac2d9beb8e820fbc15a03afd3ebc4fb9d8529de57544)\n",
      "Using the latest cached version of the module from C:\\Users\\LEOVO\\.cache\\huggingface\\modules\\datasets_modules\\datasets\\yelp_polarity\\a770787b2526bdcbfc29ac2d9beb8e820fbc15a03afd3ebc4fb9d8529de57544 (last modified on Wed Sep  8 00:23:13 2021) since it couldn't be found locally at yelp_polarity\\yelp_polarity.py or remotely (ConnectionError).\n",
      "Using the latest cached version of the module from C:\\Users\\LEOVO\\.cache\\huggingface\\modules\\datasets_modules\\datasets\\yelp_polarity\\a770787b2526bdcbfc29ac2d9beb8e820fbc15a03afd3ebc4fb9d8529de57544 (last modified on Wed Sep  8 00:23:13 2021) since it couldn't be found locally at yelp_polarity\\yelp_polarity.py or remotely (ConnectionError).\n",
      "Reusing dataset yelp_polarity (C:\\Users\\LEOVO\\.cache\\huggingface\\datasets\\yelp_polarity\\plain_text\\1.0.0\\a770787b2526bdcbfc29ac2d9beb8e820fbc15a03afd3ebc4fb9d8529de57544)\n"
     ]
    }
   ],
   "metadata": {}
  },
  {
   "cell_type": "code",
   "execution_count": 6,
   "source": [
    "train = pd.DataFrame()\r\n",
    "train['text'] =  pd.Series(train_dataset['text'])\r\n",
    "train['label'] = pd.Series(train_dataset['label'])\r\n",
    "train.to_csv(\"../../Data/Yelp/train.csv\",index=False)"
   ],
   "outputs": [],
   "metadata": {}
  },
  {
   "cell_type": "code",
   "execution_count": null,
   "source": [
    "val = pd.DataFrame()\r\n",
    "val['text'] =  pd.Series(val_dataset['text'])\r\n",
    "val['label'] = pd.Series(val_dataset['label'])\r\n",
    "val.to_csv(\"../../Data/Yelp/val.csv\",index=False)"
   ],
   "outputs": [],
   "metadata": {}
  },
  {
   "cell_type": "code",
   "execution_count": null,
   "source": [
    "test = pd.DataFrame()\r\n",
    "test['text'] =  pd.Series(test_dataset['text'])\r\n",
    "test['label'] = pd.Series(test_dataset['label'])\r\n",
    "test.to_csv(\"../../Data/Yelp/test.csv\",index=False)"
   ],
   "outputs": [],
   "metadata": {}
  }
 ],
 "metadata": {
  "orig_nbformat": 4,
  "language_info": {
   "name": "python",
   "version": "3.9.6",
   "mimetype": "text/x-python",
   "codemirror_mode": {
    "name": "ipython",
    "version": 3
   },
   "pygments_lexer": "ipython3",
   "nbconvert_exporter": "python",
   "file_extension": ".py"
  },
  "kernelspec": {
   "name": "python3",
   "display_name": "Python 3.9.6 64-bit"
  },
  "interpreter": {
   "hash": "4876ff34b70794a54711585a56035755ce9dd6f9a98e80662ac35fb37c287d01"
  }
 },
 "nbformat": 4,
 "nbformat_minor": 2
}